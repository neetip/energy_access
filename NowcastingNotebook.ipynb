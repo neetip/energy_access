{
 "cells": [
  {
   "cell_type": "markdown",
   "metadata": {},
   "source": [
    "Code accompanying the manuscript under review - `Nowcasting household energy access for up-to-datemonitoring of Sustainable Development Goals` by Pokhriyal, Letouze and Vosoughi. Data availability is described in the Methods section and the reporting summary."
   ]
  },
  {
   "cell_type": "code",
   "execution_count": null,
   "metadata": {},
   "outputs": [],
   "source": [
    "%run Utilities.ipynb"
   ]
  },
  {
   "cell_type": "markdown",
   "metadata": {},
   "source": [
    "## Load administrative information"
   ]
  },
  {
   "cell_type": "code",
   "execution_count": null,
   "metadata": {},
   "outputs": [],
   "source": [
    "map_distances = pd.read_csv('./com_distances.csv')\n",
    "map_distances['InputID'] = map_distances['InputID'].map(lambda x: str(x).zfill(8))\n",
    "map_distances['TargetID'] = map_distances['TargetID'].map(lambda x: str(x).zfill(8))"
   ]
  },
  {
   "cell_type": "code",
   "execution_count": null,
   "metadata": {},
   "outputs": [],
   "source": [
    "region_names = pd.read_csv('./region_names.csv')\n",
    "region_names['IDDR'] = region_names['IDDR'].astype(str).str.zfill(2)"
   ]
  },
  {
   "cell_type": "markdown",
   "metadata": {},
   "source": [
    "## Load all targets"
   ]
  },
  {
   "cell_type": "code",
   "execution_count": null,
   "metadata": {},
   "outputs": [],
   "source": [
    "targets_2013 = pickle.load(open('targets.pickle','rb'))\n",
    "\n",
    "targets_2015 = pd.read_csv(open('dhs_data/2015_targets/targets_comm.csv','rb'))\n",
    "targets_2015['CCOD_CRCA'] = targets_2015['CCOD_CRCA'].astype(str).str.zfill(8)\n",
    "targets_2015.set_index('CCOD_CRCA',inplace=True)\n",
    "\n",
    "targets_2017 = pd.read_csv(open('dhs_data/2017_targets/targets_comm.csv','rb'))\n",
    "targets_2017['CCOD_CRCA'] = targets_2017['CCOD_CRCA'].astype(str).str.zfill(8)\n",
    "targets_2017.set_index('CCOD_CRCA',inplace=True)\n",
    "\n",
    "targets_2019 = pd.read_csv(open('dhs_data/2019_targets/targets_comm.csv','rb'))\n",
    "targets_2019['CCOD_CRCA'] = targets_2019['CCOD_CRCA'].astype(str).str.zfill(8)\n",
    "targets_2019.set_index('CCOD_CRCA',inplace=True)\n"
   ]
  },
  {
   "cell_type": "markdown",
   "metadata": {},
   "source": [
    "## Load all inputs"
   ]
  },
  {
   "cell_type": "code",
   "execution_count": null,
   "metadata": {},
   "outputs": [],
   "source": [
    "# load only the mean data for 2013 landsat to construct the PCA model\n",
    "landsat = loadLandsatData(2013)\n",
    "# choose number of features\n",
    "n_components = 20\n",
    "pcamd = PCA(n_components=n_components)\n",
    "pcamd.fit(landsat.values)\n",
    "print(pcamd.explained_variance_ratio_.sum())"
   ]
  },
  {
   "cell_type": "code",
   "execution_count": null,
   "metadata": {},
   "outputs": [],
   "source": [
    "data_2013_all = loadAllData(2013,pcamd)\n",
    "data_2013_all['year'] = 2013\n",
    "data_2013_aug = data_2013_all.join(targets_2013)\n",
    "data_2013_aug.fillna(0,inplace=True)\n",
    "\n",
    "data_2015_all = loadAllData(2015,pcamd)\n",
    "data_2015_all['year'] = 2015\n",
    "data_2015_aug = data_2015_all.join(targets_2015,how='inner')\n",
    "data_2015_aug.fillna(0,inplace=True)\n",
    "\n",
    "data_2017_all = loadAllData(2017,pcamd)\n",
    "data_2017_all['year'] = 2017\n",
    "data_2017_aug = data_2017_all.join(targets_2017,how='inner')\n",
    "data_2017_aug.fillna(0,inplace=True)\n",
    "\n",
    "data_2020_all = loadAllData(2020,pcamd)\n",
    "data_2020_all['year'] = 2020\n",
    "data_2020_aug = data_2020_all.join(targets_2019,how='inner')\n",
    "data_2020_all.fillna(0,inplace=True)\n"
   ]
  },
  {
   "cell_type": "code",
   "execution_count": null,
   "metadata": {},
   "outputs": [],
   "source": [
    "# input columns\n",
    "outputs = ['Candle', 'Electric', 'Lamp', 'Other_lighting','Coal', 'Gas', 'Wood','Other_fuel']\n",
    "ls_cols = ['ls_{}'.format(i+1) for i in np.arange(pcamd.n_components)]\n",
    "ls_var_cols = ['ls_var_{}'.format(i+1) for i in np.arange(pcamd.n_components)]"
   ]
  },
  {
   "cell_type": "code",
   "execution_count": null,
   "metadata": {},
   "outputs": [],
   "source": [
    "year = 2013\n",
    "nl_aod_cols = ['nl_{}_avg'.format(year),'aod_{}_avg'.format(year),'nl_{}_var'.format(year),'aod_{}_var'.format(year)]\n",
    "inputs = ls_cols + ls_var_cols + nl_aod_cols + ['year']\n",
    "X2013 = data_2013_aug[inputs].fillna(0).values\n",
    "y2013 = data_2013_aug[outputs].values\n",
    "\n",
    "year = 2015\n",
    "nl_aod_cols = ['nl_{}_avg'.format(year),'aod_{}_avg'.format(year),'nl_{}_var'.format(year),'aod_{}_var'.format(year)]\n",
    "inputs = ls_cols + ls_var_cols + nl_aod_cols + ['year']\n",
    "X2015all = data_2015_all[inputs].fillna(0).values\n",
    "X2015 = data_2015_aug[inputs].fillna(0).values\n",
    "y2015 = data_2015_aug[outputs].values\n",
    "\n",
    "year = 2017\n",
    "nl_aod_cols = ['nl_{}_avg'.format(year),'aod_{}_avg'.format(year),'nl_{}_var'.format(year),'aod_{}_var'.format(year)]\n",
    "inputs = ls_cols + ls_var_cols + nl_aod_cols + ['year']\n",
    "X2017all = data_2017_all[inputs].fillna(0).values\n",
    "X2017 = data_2017_aug[inputs].fillna(0).values\n",
    "y2017 = data_2017_aug[outputs].values\n",
    "\n",
    "year = 2020\n",
    "nl_aod_cols = ['nl_{}_avg'.format(year),'aod_{}_avg'.format(year),'nl_{}_var'.format(year),'aod_{}_var'.format(year)]\n",
    "inputs = ls_cols + ls_var_cols + nl_aod_cols + ['year']\n",
    "X2020all = data_2020_all[inputs].fillna(0).values\n",
    "X2020 = data_2020_aug[inputs].fillna(0).values\n"
   ]
  },
  {
   "cell_type": "markdown",
   "metadata": {},
   "source": [
    "## Nowcasting the household energy access using EO data"
   ]
  },
  {
   "cell_type": "markdown",
   "metadata": {},
   "source": [
    "### Predictions for 2015"
   ]
  },
  {
   "cell_type": "code",
   "execution_count": null,
   "metadata": {},
   "outputs": [],
   "source": [
    "# Training data\n",
    "Xtrain = np.vstack([X2013])\n",
    "ytrain = np.vstack([y2013])\n",
    "\n",
    "scalerX = StandardScaler()\n",
    "scalerX.fit(Xtrain[:,0:-1])\n",
    "Xtrain = np.hstack([scalerX.transform(Xtrain[:,0:-1]),Xtrain[:,-1:]])\n",
    "\n",
    "strain = np.vstack([data_2013_aug[['lon','lat']].values])\n",
    "urtrain = np.hstack([data_2013_aug['TYPE'].map({'rural':0,'urban':1})])\n",
    "# Test data\n",
    "Xtest = np.hstack([scalerX.transform(X2015all[:,0:-1]),X2015all[:,-1:]])\n",
    "stest = data_2015_all[['lon','lat']].values\n",
    "urtest = data_2015_all['TYPE'].map({'rural':0,'urban':1}).values"
   ]
  },
  {
   "cell_type": "code",
   "execution_count": null,
   "metadata": {},
   "outputs": [],
   "source": [
    "# train and predict using the GPR model using appended data\n",
    "mo_kernel=True\n",
    "alpha=0.1\n",
    "YPred,var,models = run_GPyTorchMO(Xtrain,ytrain,Xtest,alpha,\n",
    "                                  strain,stest,urtrain[:,np.newaxis],urtest[:,np.newaxis],\n",
    "                                  fitlinear=True,ard=False,mo_ard=False,\n",
    "                                  initPhis=None,return_models=True,hasTime=True)\n",
    "pred_means_df_2015,pred_vars_df_2015 = prepPredictions(YPred,var,data_2015_all,outputs,\n",
    "                                                       data_2015_all['TYPE'].map({'rural':0,'urban':1}))"
   ]
  },
  {
   "cell_type": "markdown",
   "metadata": {},
   "source": [
    "### Predictions for 2017"
   ]
  },
  {
   "cell_type": "code",
   "execution_count": null,
   "metadata": {},
   "outputs": [],
   "source": [
    "# Training data\n",
    "Xtrain = np.vstack([X2013,X2015])\n",
    "ytrain = np.vstack([y2013,y2015])\n",
    "\n",
    "scalerX = StandardScaler()\n",
    "scalerX.fit(Xtrain[:,0:-1])\n",
    "Xtrain = np.hstack([scalerX.transform(Xtrain[:,0:-1]),Xtrain[:,-1:]])\n",
    "\n",
    "strain = np.vstack([data_2013_aug[['lon','lat']].values,\n",
    "                    data_2015_aug[['lon','lat']].values])\n",
    "urtrain = np.hstack([data_2013_aug['TYPE'].map({'rural':0,'urban':1}),\n",
    "                     data_2015_aug['TYPE'].map({'rural':0,'urban':1})])\n",
    "# Test data\n",
    "Xtest = np.hstack([scalerX.transform(X2017all[:,0:-1]),X2017all[:,-1:]])\n",
    "stest = data_2017_all[['lon','lat']].values\n",
    "urtest = data_2017_all['TYPE'].map({'rural':0,'urban':1}).values"
   ]
  },
  {
   "cell_type": "code",
   "execution_count": null,
   "metadata": {},
   "outputs": [],
   "source": [
    "# train and predict using the GPR model using appended data\n",
    "mo_kernel=True\n",
    "alpha=0.1\n",
    "YPred,var,models = run_GPyTorchMO(Xtrain,ytrain,Xtest,alpha,\n",
    "                                  strain,stest,urtrain[:,np.newaxis],urtest[:,np.newaxis],\n",
    "                                  fitlinear=True,ard=False,mo_ard=False,\n",
    "                                  initPhis=None,return_models=True,hasTime=True)\n",
    "pred_means_df_2017,pred_vars_df_2017 = prepPredictions(YPred,var,data_2017_all,outputs,\n",
    "                                                       data_2017_all['TYPE'].map({'rural':0,'urban':1}))"
   ]
  },
  {
   "cell_type": "markdown",
   "metadata": {},
   "source": [
    "### Predictions for 2020"
   ]
  },
  {
   "cell_type": "code",
   "execution_count": null,
   "metadata": {},
   "outputs": [],
   "source": [
    "Xtrain = np.vstack([X2013,X2015,X2017])\n",
    "ytrain = np.vstack([y2013,y2015,y2017])\n",
    "\n",
    "scalerX = StandardScaler()\n",
    "scalerX.fit(Xtrain[:,0:-1])\n",
    "Xtrain = np.hstack([scalerX.transform(Xtrain[:,0:-1]),Xtrain[:,-1:]])\n",
    "\n",
    "strain = np.vstack([data_2013_aug[['lon','lat']].values,\n",
    "                    data_2015_aug[['lon','lat']].values,\n",
    "                    data_2017_aug[['lon','lat']].values])\n",
    "urtrain = np.hstack([data_2013_aug['TYPE'].map({'rural':0,'urban':1}),\n",
    "                     data_2015_aug['TYPE'].map({'rural':0,'urban':1}),\n",
    "                     data_2017_aug['TYPE'].map({'rural':0,'urban':1})])\n",
    "Xtest = np.hstack([scalerX.transform(X2020all[:,0:-1]),X2020all[:,-1:]])\n",
    "stest = data_2020_all[['lon','lat']].values\n",
    "urtest = data_2020_all['TYPE'].map({'rural':0,'urban':1}).values"
   ]
  },
  {
   "cell_type": "code",
   "execution_count": null,
   "metadata": {},
   "outputs": [],
   "source": [
    "# train and predict using the GPR model using appended data\n",
    "mo_kernel=True\n",
    "alpha=0.1\n",
    "YPred,var,models = run_GPyTorchMO(Xtrain,ytrain,Xtest,alpha,\n",
    "                                  strain,stest,urtrain[:,np.newaxis],urtest[:,np.newaxis],\n",
    "                                  fitlinear=True,ard=ard,mo_ard=False,\n",
    "                                  initPhis=None,return_models=True,hasTime=True)\n",
    "pred_means_df_2020,pred_vars_df_2020 = prepPredictions(YPred,var,data_2020_all,outputs,\n",
    "                                                       data_2020_all['TYPE'].map({'rural':0,'urban':1}))"
   ]
  },
  {
   "cell_type": "markdown",
   "metadata": {},
   "source": [
    "## Analyzing the interconnectedness of energy access and population growth for microregions"
   ]
  },
  {
   "cell_type": "code",
   "execution_count": null,
   "metadata": {},
   "outputs": [],
   "source": [
    "pop_df = pd.DataFrame(data_2020_aug['pop2020']).join(pd.DataFrame(data_2013_aug['pop2013']))\n",
    "pop_df['pop_increase'] = pop_df['pop2020'] - pop_df['pop2013']"
   ]
  },
  {
   "cell_type": "code",
   "execution_count": null,
   "metadata": {},
   "outputs": [],
   "source": [
    "targets_2013_aug = targets_2013.join(data_2013_aug[['TYPE','pop2013']])\n",
    "for t in targets_2013_aug.columns[0:8]:\n",
    "    targets_2013_aug['{}_pop'.format(t)] = targets_2013_aug[t]*targets_2013_aug['pop2013']"
   ]
  },
  {
   "cell_type": "code",
   "execution_count": null,
   "metadata": {},
   "outputs": [],
   "source": [
    "pred_means_df_2020_aug = pred_means_df_2020.join(data_2019_all['pop2020'])\n",
    "for t in pred_means_df_2020_aug.columns[0:8]:\n",
    "    pred_means_df_2020_aug['{}_pop'.format(t)] = pred_means_df_2020_aug[t]*pred_means_df_2020_aug['pop2020']"
   ]
  },
  {
   "cell_type": "code",
   "execution_count": null,
   "metadata": {},
   "outputs": [],
   "source": [
    "targets_2013_aug['region'] = targets_2013_aug.index.str[0:2]\n",
    "targets_2013_aug['region_TYPE'] = targets_2013_aug['region']+'_'+targets_2013_aug['TYPE']\n",
    "\n",
    "# aggregate at region+type level\n",
    "targets_2013_region = targets_2013_aug.groupby(['region_TYPE']).mean()\n",
    "targets_2013_region.drop(columns=['pop2013'],inplace=True)\n",
    "targets_2013_region = targets_2013_region.join(targets_2013_aug.groupby('region_TYPE')['pop2013'].sum())\n",
    "targets_2013_region.name = '2013'\n",
    "\n",
    "# aggregate at region+type level\n",
    "pred_2020_region = pred_means_df_2020_aug.groupby(['region_TYPE']).mean()\n",
    "pred_2020_region.drop(columns=['pop2020'],inplace=True)\n",
    "pred_2020_region = pred_2020_region.join(pred_means_df_2020_aug.groupby('region_TYPE')['pop2020'].sum())\n",
    "pred_2020_region.name = '2020'"
   ]
  },
  {
   "cell_type": "code",
   "execution_count": null,
   "metadata": {},
   "outputs": [],
   "source": [
    "# commune level\n",
    "delta_c_df = targets_2013_aug[['Electric','Gas','Lamp','Wood','pop2013']].join(\n",
    "    pred_means_df_2019_aug[['Electric','Gas','Lamp','Wood','pop2020']],lsuffix='2013',rsuffix='2020').join(targets_2013_aug[['TYPE']])\n",
    "delta_c_df['Delta_Electric'] = 100*(delta_c_df['Electric2020'] - delta_c_df['Electric2013'])\n",
    "delta_c_df['Delta_Gas'] = 100*(delta_c_df['Gas2020'] - delta_c_df['Gas2013'])\n",
    "delta_c_df['Delta_Wood'] = 100*(delta_c_df['Wood2020'] - delta_c_df['Wood2013'])\n",
    "delta_c_df['Delta_Lamp'] = 100*(delta_c_df['Lamp2020'] - delta_c_df['Lamp2013'])\n",
    "delta_c_df['Delta_pop'] = 100*(delta_c_df['pop2020'] - delta_c_df['pop2013'])/delta_c_df['pop2013']"
   ]
  },
  {
   "cell_type": "code",
   "execution_count": null,
   "metadata": {},
   "outputs": [],
   "source": [
    "data_2020_all['pop2019'] = data_2020_all['pop2020']\n",
    "est2 = plotScatter(pred_means_df_2020,pred_vars_df_2020,2020,\n",
    "                   'Electric',data_2020_all['pop2020'])"
   ]
  },
  {
   "cell_type": "code",
   "execution_count": null,
   "metadata": {},
   "outputs": [],
   "source": [
    "target = 'Gas'\n",
    "delta_c_df = delta_c_df.loc[delta_c_df['{}2013'.format(target)] > 0.0001]\n",
    "fig, ax = plt.subplots(figsize=(16,12))\n",
    "ax.set_ylabel('% population change (2013-2020)',fontsize=32)\n",
    "ax.set_xlabel('% point change in access to gas for cooking (2013-2020)'.format(target),fontsize=32)\n",
    "\n",
    "# make scatter\n",
    "ml = 0.01\n",
    "ax.scatter(delta_c_df.loc[delta_c_df['TYPE']=='urban','Delta_{}'.format(target)],\n",
    "       delta_c_df.loc[delta_c_df['TYPE']=='urban','Delta_pop'],\n",
    "       s = ml*delta_c_df.loc[delta_c_df['TYPE']=='urban','pop2020'],\n",
    "       alpha=0.6,\n",
    "       c='r')\n",
    "ax.scatter(delta_c_df.loc[delta_c_df['TYPE']=='rural','Delta_{}'.format(target)],\n",
    "       delta_c_df.loc[delta_c_df['TYPE']=='rural','Delta_pop'],\n",
    "       s = ml*delta_c_df.loc[delta_c_df['TYPE']=='rural','pop2020'],\n",
    "       alpha=0.4,\n",
    "       c='b')\n",
    "ax.legend(['Urban','Rural'],fontsize=32,loc=\"upper right\",markerscale=0.5)\n",
    "\n",
    "# add population legend\n",
    "ps = []\n",
    "ls = [1000,10000,100000]\n",
    "for p in ls:\n",
    "    ps.append(ax.scatter([], [], c='gray', alpha=0.8, s=p*ml,label=str(p)))\n",
    "leg = Legend(ax, ps,['1k','10k','100k'],fontsize=30,\n",
    "             loc='upper left', frameon=True, markerscale=1,\n",
    "             title='Population\\n(2020)',labelspacing=1)\n",
    "ax.add_artist(leg);\n",
    "\n",
    "\n",
    "ax.axvline(c='k')\n"
   ]
  },
  {
   "cell_type": "code",
   "execution_count": null,
   "metadata": {},
   "outputs": [],
   "source": [
    "# region level\n",
    "delta_df = targets_2013_region[['Electric','Gas','Electric_pop','Gas_pop','pop2013']].join(\n",
    "    pred_2020_region[['Electric','Gas','Electric_pop','Gas_pop','pop2020']],lsuffix='2013',rsuffix='2020')\n",
    "delta_df['Delta_Electric'] = 100*(delta_df['Electric2020'] - delta_df['Electric2013'])\n",
    "delta_df['Delta_Gas'] = 100*(delta_df['Gas2020'] - delta_df['Gas2013'])\n",
    "delta_df['Delta_Electric_pop'] = delta_df['Electric_pop2020'] - delta_df['Electric_pop2013']\n",
    "delta_df['Delta_Gas_pop'] = delta_df['Gas_pop2020'] - delta_df['Gas_pop2013']\n",
    "delta_df['Delta_pop'] = 100*(delta_df['pop2020'] - delta_df['pop2013'])/delta_df['pop2013']\n",
    "\n",
    "\n",
    "delta_df['type'] = delta_df.index.str[3:]"
   ]
  },
  {
   "cell_type": "code",
   "execution_count": null,
   "metadata": {},
   "outputs": [],
   "source": [
    "target = 'Gas'\n",
    "fig, ax = plt.subplots(figsize=(16,12))\n",
    "ax.set_ylabel('% population change (2013-2020)',fontsize=32)\n",
    "ax.set_xlabel('% point change in access to gas for cooking (2013-2020)'.format(target),fontsize=32)\n",
    "\n",
    "# make scatter\n",
    "ax.scatter(delta_df.loc[delta_df['type']=='urban','Delta_{}'.format(target)],\n",
    "       delta_df.loc[delta_df['type']=='urban','Delta_pop'],\n",
    "       s = 0.001*delta_df.loc[delta_df['type']=='urban','pop2020'],\n",
    "       alpha=0.6,\n",
    "       c='r')\n",
    "ax.scatter(delta_df.loc[delta_df['type']=='rural','Delta_{}'.format(target)],\n",
    "       delta_df.loc[delta_df['type']=='rural','Delta_pop'],\n",
    "       s = 0.001*delta_df.loc[delta_df['type']=='rural','pop2020'],\n",
    "       alpha=0.6,\n",
    "       c='b')\n",
    "#ax.set_ylim([-0.1,0.1])\n",
    "ax.legend(['Urban','Rural'],fontsize=32,loc=\"upper right\",markerscale=0.6)\n",
    "ax.axvline(c='k')\n",
    "# add population legend\n",
    "ps = []\n",
    "ls = [5000,50000,500000]\n",
    "for p in ls:\n",
    "    ps.append(ax.scatter([], [], c='gray', alpha=0.8, s=p*0.005,label=str(p)))\n",
    "leg = Legend(ax, ps,['5k','50k','500k'],fontsize=30,\n",
    "             loc='center right', frameon=True, markerscale=0.6,\n",
    "             title='Population\\n(2020)')\n",
    "ax.add_artist(leg);\n"
   ]
  },
  {
   "cell_type": "markdown",
   "metadata": {},
   "source": [
    "## Results 3 - Highlighting the urban-rural disparity in energy access through the years"
   ]
  },
  {
   "cell_type": "code",
   "execution_count": null,
   "metadata": {},
   "outputs": [],
   "source": [
    "t = 'Electric'\n",
    "df_ts = []\n",
    "for yy,df in zip([2013,2015,2017,2020],[targets_2013_x,pred_means_df_2015,pred_means_df_2017,pred_means_df_2020]):\n",
    "    df_ = df[[t]].rename(columns={t:yy})\n",
    "    df_ts.append(df_)\n",
    "df_ts = pd.concat(df_ts,axis=1)\n",
    "df_ts = df_ts.join(targets_2013_x.loc[:,['TYPE']],how='right')\n",
    "\n",
    "fig, ax = plt.subplots(figsize=(10,6))\n",
    "\n",
    "# urban\n",
    "df_ts_u = df_ts.loc[df_ts['TYPE']=='urban',[2013,2015,2017,2020]].transpose().clip(lower=0,upper=1)\n",
    "df_ts_u.index=pd.PeriodIndex(pd.to_datetime(df_ts_u.index,format='%Y'),freq='A')\n",
    "\n",
    "# rural\n",
    "df_ts_r = df_ts.loc[df_ts['TYPE']=='rural',[2013,2015,2017,2020]].transpose().clip(lower=0,upper=1)\n",
    "df_ts_r.index=pd.PeriodIndex(pd.to_datetime(df_ts_r.index,format='%Y'),freq='A')\n",
    "\n",
    "df_ts_u.mean(axis=1).plot(ax=ax,xticks=df_ts_u.index,linewidth=4,c='r',marker='s',markersize=12)\n",
    "df_ts_r.mean(axis=1).plot(ax=ax,xticks=df_ts_r.index,linewidth=4,c='b',marker='s',markersize=12)\n",
    "df_ts_u.plot(ax=ax,xticks=df_ts_u.index,c='r',legend=None,alpha=0.1)\n",
    "df_ts_r.plot(ax=ax,xticks=df_ts_r.index,c='b',legend=None,alpha=0.05)\n",
    "\n",
    "ax.set_xlabel('Year')\n",
    "ax.set_ylabel('Electricity Access'.format(t))\n",
    "ax.legend(['Urban','Rural'])\n",
    "ax.set_ylim([0,1])\n",
    "ax.set_xticklabels([2013,2015,2017,2020])\n",
    "plt.tight_layout()\n"
   ]
  },
  {
   "cell_type": "code",
   "execution_count": null,
   "metadata": {},
   "outputs": [],
   "source": [
    "t = 'Gas'\n",
    "df_ts = []\n",
    "for yy,df in zip([2013,2015,2017,2020],[targets_2013_x,pred_means_df_2015,pred_means_df_2017,pred_means_df_2020]):\n",
    "    df_ = df[[t]].rename(columns={t:yy})\n",
    "    df_ts.append(df_)\n",
    "df_ts = pd.concat(df_ts,axis=1)\n",
    "df_ts = df_ts.join(targets_2013_x.loc[:,['TYPE']],how='right')\n",
    "\n",
    "fig, ax = plt.subplots(figsize=(10,6))\n",
    "\n",
    "# urban\n",
    "df_ts_u = df_ts.loc[df_ts['TYPE']=='urban',[2013,2015,2017,2020]].transpose().clip(lower=0,upper=1)\n",
    "df_ts_u.index=pd.PeriodIndex(pd.to_datetime(df_ts_u.index,format='%Y'),freq='A')\n",
    "\n",
    "# rural\n",
    "df_ts_r = df_ts.loc[df_ts['TYPE']=='rural',[2013,2015,2017,2020]].transpose().clip(lower=0,upper=1)\n",
    "df_ts_r.index=pd.PeriodIndex(pd.to_datetime(df_ts_r.index,format='%Y'),freq='A')\n",
    "\n",
    "df_ts_u.mean(axis=1).plot(ax=ax,xticks=df_ts_u.index,linewidth=4,c='r',marker='s',markersize=12)\n",
    "df_ts_r.mean(axis=1).plot(ax=ax,xticks=df_ts_r.index,linewidth=4,c='b',marker='s',markersize=12)\n",
    "df_ts_u.plot(ax=ax,xticks=df_ts_u.index,c='r',legend=None,alpha=0.1)\n",
    "df_ts_r.plot(ax=ax,xticks=df_ts_r.index,c='b',legend=None,alpha=0.05)\n",
    "\n",
    "ax.set_xlabel('Year')\n",
    "ax.set_ylabel('Gas (as cooking fuel) Access'.format(t))\n",
    "ax.legend(['Urban','Rural'])\n",
    "ax.set_ylim([0,1])\n",
    "ax.set_xticklabels([2013,2015,2017,2020])\n",
    "plt.tight_layout()\n"
   ]
  },
  {
   "cell_type": "code",
   "execution_count": null,
   "metadata": {},
   "outputs": [],
   "source": [
    "# Violin plot\n",
    "t = 'Gas' #'Electric'\n",
    "df_ts = []\n",
    "for yy,df in zip([2013,2015,2017,2020],[targets_2013_x,pred_means_df_2015,pred_means_df_2017,pred_means_df_2019]):\n",
    "    df_ = df[[t]].rename(columns={t:yy})\n",
    "    df_ts.append(df_)\n",
    "df_ts = pd.concat(df_ts,axis=1)\n",
    "df_ts = df_ts.join(targets_2013_x.loc[:,['TYPE']],how='right')\n",
    "df_ts_list = []\n",
    "for y in [2013,2015,2017,2020]:\n",
    "    df_ts_ = df_ts[[y]]\n",
    "    df_ts_.loc[:,['year']] = y\n",
    "    df_ts_.loc[:,['TYPE']] = df_ts['TYPE']\n",
    "    df_ts_.rename(columns={y:'value'},inplace=True)\n",
    "    df_ts_list.append(df_ts_)\n",
    "df_ts_merged = pd.concat(df_ts_list,ignore_index=True)\n",
    "#df_ts_merged.loc[df_ts_merged['value'] < 0,'value'] = 0\n",
    "fig, ax = plt.subplots(figsize=(10,6))\n",
    "#\n",
    "#ax.legend(['Urban','Rural'])\n",
    "#ax.set_ylim([0,1])\n",
    "#ax.set_xticklabels([2013,2015,2017,2020])\n",
    "colors = ['r', 'b']\n",
    "# Set your custom color palette\n",
    "sns.set_palette(sns.color_palette(colors))\n",
    "ax = sns.violinplot(x=\"year\", y=\"value\", hue=\"TYPE\",\n",
    "                    data=df_ts_merged,ax=ax)\n",
    "ax.set_xlabel('Year')\n",
    "ax.legend(ncol=2)\n",
    "ax.set_ylabel('Clean Cooking Fuel Access')\n",
    "#ax.set_ylabel('Electricity Access'.format(t))\n",
    "plt.tight_layout()\n",
    "plt.savefig('plots/violin_gas.png',dpi=192)"
   ]
  },
  {
   "cell_type": "markdown",
   "metadata": {},
   "source": [
    "## Spatial cross-validation"
   ]
  },
  {
   "cell_type": "code",
   "execution_count": null,
   "metadata": {},
   "outputs": [],
   "source": [
    "commune_ids = list(data_aug.index)\n",
    "comreg_df = pd.DataFrame(commune_ids,columns=['CCOD_CRCA'])\n",
    "comreg_df['REG'] = comreg_df['CCOD_CRCA'].str[0:2]\n",
    "comreg_df['row_index'] = np.arange(comreg_df.shape[0])"
   ]
  },
  {
   "cell_type": "code",
   "execution_count": null,
   "metadata": {},
   "outputs": [],
   "source": [
    "# input columns\n",
    "nl_aod_cols = ['nl_2013_avg','aod_2013_avg','nl_2013_var','aod_2013_var']\n",
    "# Prepare data\n",
    "outputs = ['Candle', 'Electric', 'Lamp', 'Other_lighting','Coal', 'Gas', 'Wood','Other_fuel']\n",
    "inputs = ls_cols + ls_var_cols + nl_aod_cols \n",
    "X = data_aug[inputs].fillna(0).values\n",
    "y = data_aug[outputs].values\n",
    "# Training data\n",
    "Xtrain = np.vstack([X2013])\n",
    "ytrain = np.vstack([y2013])\n",
    "\n",
    "scalerX = StandardScaler()\n",
    "scalerX.fit(Xtrain[:,0:-1])\n",
    "Xtrain = np.hstack([scalerX.transform(Xtrain[:,0:-1]),Xtrain[:,-1:]])\n",
    "\n",
    "strain = np.vstack([data_2013_aug[['lon','lat']].values])\n",
    "urtrain = np.hstack([data_2013_aug['TYPE'].map({'rural':0,'urban':1})])\n",
    "\n",
    "lmbd = 0.1\n",
    "niters = 1\n",
    "args = {}\n",
    "args['mpi'] = []\n",
    "args['s'] = strain\n",
    "args['urtype'] = urtrain.values[:,np.newaxis]\n",
    "args['fitlinear'] = True # always true\n",
    "args['initPhis'] = None \n",
    "args['mokernel'] = True\n",
    "# ard entries are always false\n",
    "args['ard'] = False\n",
    "args['mo_ard'] = False\n",
    "method = 'GPRSpatial'\n",
    "results = crossvalidate_spatial(Xtrain,ytrain,lmbd,niters,method,args,map_distances,comreg_df)\n",
    "pcorrvec,ppvalvec,scorrvec,spvalvec,rmsevec,map_YPreds,map_Yvar1,map_Yvar2,map_Yvar_combined,rmseurbanvec,rmseruralvec,rmseurban_dvec,rmseurban_ndvec = results\n",
    "predictedMeans,predictedVars = getPredStats(map_YPreds,map_Yvar_combined,comreg_df,commune_ids)\n"
   ]
  },
  {
   "cell_type": "code",
   "execution_count": null,
   "metadata": {},
   "outputs": [],
   "source": [
    "res = np.vstack([np.mean(pcorrvec,axis=0),np.mean(ppvalvec,axis=0),\n",
    "                 np.mean(scorrvec,axis=0),np.mean(spvalvec,axis=0),\n",
    "                 np.mean(rmsevec,axis=0),np.mean(rmseurbanvec,axis=0),\n",
    "                 np.mean(rmseruralvec,axis=0),np.mean(rmseurban_dvec,axis=0),np.mean(rmseurban_ndvec,axis=0),\n",
    "                 np.mean(predictedVars,axis=0)])\n",
    "res = pd.DataFrame(res,columns=outputs,\n",
    "                   index=pd.Index([\n",
    "                       'Pearson','PPVal','Spearman','SPVal','RMSE (all)','RMSE (urban)','RMSE (rural)','RMSE (urban-dakar)','RMSE (urban-nondakar)','Variances'\n",
    "                   ]))\n",
    "print(res.to_markdown())\n"
   ]
  },
  {
   "cell_type": "markdown",
   "metadata": {},
   "source": [
    "## Temporal validation "
   ]
  },
  {
   "cell_type": "code",
   "execution_count": null,
   "metadata": {},
   "outputs": [],
   "source": [
    "est2 = plotScatter(pred_means_df_2020,pred_vars_df_2020,2020,\n",
    "                   'Electric',data_2020_all['pop2020'])"
   ]
  },
  {
   "cell_type": "code",
   "execution_count": null,
   "metadata": {},
   "outputs": [],
   "source": [
    "est2 = plotScatter(pred_means_df_2020,pred_vars_df_2020,2020,\n",
    "                   'Gas',data_2020_all['pop2020'])"
   ]
  }
 ],
 "metadata": {
  "kernelspec": {
   "display_name": "Python 3",
   "language": "python",
   "name": "python3"
  },
  "language_info": {
   "codemirror_mode": {
    "name": "ipython",
    "version": 3
   },
   "file_extension": ".py",
   "mimetype": "text/x-python",
   "name": "python",
   "nbconvert_exporter": "python",
   "pygments_lexer": "ipython3",
   "version": "3.7.10"
  }
 },
 "nbformat": 4,
 "nbformat_minor": 4
}
